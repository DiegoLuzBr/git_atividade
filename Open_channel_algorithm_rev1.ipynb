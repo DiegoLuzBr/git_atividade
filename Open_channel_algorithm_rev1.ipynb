{
 "cells": [
  {
   "cell_type": "markdown",
   "metadata": {},
   "source": [
    "# <center><span style=\"color:red\"><u> Grupo 2</u> </span> <center>\n",
    "    \n",
    "   <center><i>- Beatriz, Diego, Edwin, Luis -</i></center>\n",
    "\n",
    "## <center><u>Título: Open-Channel Flow Algorithm in Newton-Raphson Form </u>\n",
    "<center>by: John N. Paine\n",
    "\n",
    "\n",
    "### <u>Objetivo</u>: Desenvolver um <u>algorítmo</u> para solucionar um problema de determinação do perfil d'água em um fluxo em regime permanente gradualmente variado baseado no<u> _Standard Step Method_</u>. \n"
   ]
  },
  {
   "cell_type": "markdown",
   "metadata": {},
   "source": [
    "### <u> Justificativa</u>\n",
    "\n",
    "- O escoamento **permanente gradualmente variado** vem sendo objeto de estudo por mais de <u>100 anos</u>.\n",
    "- Conhecer o **perfil d'água** é extramemente importante pois <u>influencia diretamente as obras de engenharia</u>.\n",
    "- Todavia, o problema é extramamente <u>complexo</u>, principalmente pelo ***tratamento matemático das equações*** que regem o movimento e também o **grande número de parâmentros hidráulicos** sujeitos a variações.\n",
    "- Foram desenvolvidos diversos métodos, com destaque para os trabalho iniciais de **Bakhmeteff**.\n",
    "- Há diversos métodos para determinação do perfil:\n",
    "    1. métodos de integração gráfica;\n",
    "    2. métodos de integração direta;\n",
    "    3. métodos de soluções numéricas passo a passo (*step methods*):\n",
    "        1. Direct step method;\n",
    "        2. Standard step method;"
   ]
  },
  {
   "cell_type": "markdown",
   "metadata": {},
   "source": [
    "> ### Direct step method\n",
    ">\n",
    "> - A distância é calculada a partir da altura;\n",
    "> - Aplicável somente em canais prismáticos;"
   ]
  },
  {
   "cell_type": "markdown",
   "metadata": {},
   "source": [
    "> ### Standard step method\n",
    "> - A altura é calculada a partir da distância;\n",
    "> - Aplicável em canais prismáticos e não prismáticos;\n",
    "> - Processo de tentativas e erros\n",
    "> - Envolve uma equação diferencial, é necessária uma condição de contorno."
   ]
  },
  {
   "cell_type": "markdown",
   "metadata": {},
   "source": [
    "<img src=\"canal.png\" style=\"height:700px\">"
   ]
  },
  {
   "cell_type": "markdown",
   "metadata": {},
   "source": [
    "### <u>Equações</u>\n",
    "\n",
    "> #### Energia disponível:\n",
    ">\n",
    "> $$H = i + y + \\alpha \\frac{V^2}{2g}$$\n",
    "\n",
    "   \n",
    "<br>\n",
    "\n",
    "> #### Equação básica do standard step, com condições de contorno conhecidas em uma das seções:\n",
    ">\n",
    "> $$f(x) = \\left( h + \\frac{V^2}{2g}\\right)_D- \\left(h + \\frac{V^2}{2g}\\right)_U + \\frac{\\Delta x}{2} (S_{fU} + S_{fD})$$\n",
    "\n",
    "<br>\n",
    "   \n",
    "> #### Gradiente de Energia\n",
    ">\n",
    "> $$S_f = \\left( \\frac{Qn}{AR^{2/3}} \\right)^2$$"
   ]
  },
  {
   "cell_type": "markdown",
   "metadata": {},
   "source": [
    "### <u>Constantes</u>\n",
    "\n",
    "Algumas equações e passagens são chamadas de constantes **$(C_x)$** para simplificar as equações, sendo essas:\n",
    "\n",
    "> $$C_1 = H$$\n",
    "<br>\n",
    "> $$C_2 = S_f$$\n",
    "<br>\n",
    "> $$C_3 = Qn$$\n",
    "<br>\n",
    "> $$C_4 = \\frac {Z_L + Z_R}{2}$$\n",
    "<br>\n",
    "> $$C_5 = \\left(1 + Z_L^2\\right)^{1/2} + \\left(1 + Z_R^2\\right)^{1/2}$$"
   ]
  },
  {
   "cell_type": "markdown",
   "metadata": {},
   "source": [
    "### <u>Equações Simplificadas para Newton-Raphson</u>\n",
    "\n",
    "#### Função polinomial do gradiente de energia  em função de *y* como variável independente\n",
    "\n",
    "> $$S_f(y)= C_3^2 \\left(B + C_4y^2\\right)^{-10/3}\\left(B + yC_5\\right)^{4/3}$$\n",
    "\n",
    "<br>\n",
    "\n",
    "#### Equação final do standard step method com as constantes definidas utilizada no algorítimo\n",
    "\n",
    "> $$f(y) = \\beta C_1 - \\beta y - \\beta i - \\beta \\frac {\\left[ \\frac{Q}{y \\left(B + C_4y\\right)}\\right]^2}{2g} + \\frac {\\Delta x}{2} \\left[S_f(y) + C_2 \\right]$$\n",
    "\n",
    "O termo **$\\beta$** é <font color='blue'>positivo</font> se o calculo inicia com valores conhecidos na montante do canal ou <font color='red'>negativo</font> se são conhecidos os valores na jusante do canal.\n",
    "\n"
   ]
  },
  {
   "cell_type": "markdown",
   "metadata": {},
   "source": [
    "**Observação:** Quando a função apresenta duas raízes, o valor inicial de $yk$ tem que ser bem proximo do $y$ inicial"
   ]
  },
  {
   "cell_type": "markdown",
   "metadata": {
    "collapsed": true
   },
   "source": [
    "### <u>Aplicação do SSM em python</u>"
   ]
  },
  {
   "cell_type": "markdown",
   "metadata": {},
   "source": [
    "Os indices K são para valores conhecidos e o indice U para os desconhecidos."
   ]
  },
  {
   "cell_type": "markdown",
   "metadata": {},
   "source": [
    "**Observação:** Há condições físicas que impedem a solução do Standard Step Method, o comprimento do perfil de fluxo pode ser menor que o comprimento do canal ou a presença de um ressalto hidráulico. Nesses casos tem que se realizar verificações para uma finalização controlada do método. (Script para calcular altura crítica)."
   ]
  },
  {
   "cell_type": "markdown",
   "metadata": {},
   "source": [
    "### <u>Exemplo de execução</u>\n"
   ]
  },
  {
   "cell_type": "markdown",
   "metadata": {},
   "source": [
    " ### <u>Código do Algoritmo</u>\n",
    ">\n",
    ">### Passo 1:\n",
    "> Importaram-se os módulos necessários para desenvolvimento do código\n"
   ]
  },
  {
   "cell_type": "code",
   "execution_count": null,
   "metadata": {},
   "outputs": [],
   "source": [
    "from scipy import optimize\n",
    "import matplotlib.pyplot as plt\n",
    "import hydradepth as dp\n"
   ]
  },
  {
   "cell_type": "markdown",
   "metadata": {},
   "source": [
    "> ### Passo 2:\n",
    ">\n",
    "> Definiram-se as equações e constantes auxiliares\n",
    "\n"
   ]
  },
  {
   "cell_type": "code",
   "execution_count": null,
   "metadata": {},
   "outputs": [],
   "source": [
    "#Equação básica do standard step\n",
    "\n",
    "def fy(y):\n",
    "    Sfy = Sf(y)\n",
    "    C1 = H(iK, yK)\n",
    "    C2 = SfK(Q, n)\n",
    "    C4 = inclina(ZL, ZR)\n",
    "    return BETA*C1 - BETA*y - BETA*i - BETA/(2.0*g)*(Q/(y*(b+C4*y)))**2.0 + (deltax/2.0)*(Sfy + C2)\n",
    "\n",
    "# Derivada de f(y) (equação básica do método)\n",
    "\n",
    "def derivada_fy(y):\n",
    "    derivda_Sfy = SfP(y)\n",
    "    C4 = inclina(ZL, ZR)\n",
    "    return BETA*(-1.0) + BETA*(Q*Q/g) * (y*(b + C4*y))**(-3.0) * (b + 2*C4*y) + (deltax/2.0)*(derivda_Sfy)\n",
    "\n",
    "#Função polinomial do gradiente de energia\n",
    "\n",
    "def Sf(y):\n",
    "    C3 = mann(Q, n)\n",
    "    C4 = inclina(ZL, ZR)\n",
    "    C5 = raiz_inclina(ZL, ZR)\n",
    "\n",
    "    return (C3**2) * ((b*y + (C4*y**2.0))**(-10.0/3.0)) * (b + y*C5)**(4.0/3.0)\n",
    "\n",
    "# Derivada da função polinomial do gradiente de energia\n",
    "\n",
    "def SfP(y):\n",
    "    C3 = mann(Q, n)\n",
    "    C4 = inclina(ZL, ZR)\n",
    "    C5 = raiz_inclina(ZL, ZR)\n",
    "    return (4.0/3.0)*C3*C3*C5 * ((b*y + C4*y*y)**(-10.0/3.0)) * (b + C5*y)**(1.0/3.0) - (10.0/3.0)*(C3*C3) * (b + 2*C4*y) * (b + C5*y)**(4.0/3.0) * (y*(b + C4*y))**(-13.0/3.0)\n",
    "\n",
    "#Energia disponível (constante auxiliar)\n",
    "def H(iK, yK):  # C1 \n",
    "    C4 = inclina(ZL, ZR)\n",
    "    VK = Q/(yK*(b + C4*yK))\n",
    "\n",
    "    return iK + yK + (VK**2.0)/(2*g)\n",
    "\n",
    "#Constante auxiliar \n",
    "def SfK(Q, n):  # C2\n",
    "    A = yK*(b + 0.5*yK*(ZL+ZR))\n",
    "    P = b + (yK**2.0 + yK*ZL*yK*ZL)**0.5 + (yK**2.0 + yK*ZR*yK*ZR)**0.5\n",
    "    R = A/P\n",
    "    return (Q*n / (1.486*A*R**(2.0/3.0)))**2.0\n",
    "\n",
    "# \n",
    "def mann(Q, n):  # C3\n",
    "    return Q*n/1.486  # ft - 1.496; m - 1.000\n",
    "\n",
    "#Inclinação ( constante auxiliar)\n",
    "\n",
    "def inclina(ZL, ZR):  # C4\n",
    "    return (ZL + ZR) / 2.0\n",
    "\n",
    "# Simplificação para cálculo do perímetro molhado (constante auxiliar)\n",
    "\n",
    "def raiz_inclina(ZL, ZR):  # C5\n",
    "    return (1+(ZL)**2.0)**0.5 + (1+(ZR)**2.0)**0.5\n"
   ]
  },
  {
   "cell_type": "markdown",
   "metadata": {},
   "source": [
    "> ### Passo 3:\n",
    ">\n",
    "> Definiram-se:\n",
    "> - As características do canal;\n",
    "> - Os dados do projeto;\n",
    "> - As condições iniciais de contorno ;\n",
    "> - A verificação hidráulica para os dados inseridos."
   ]
  },
  {
   "cell_type": "code",
   "execution_count": null,
   "metadata": {},
   "outputs": [],
   "source": [
    "\n",
    "# channel features\n",
    "\n",
    "ZL = 2.0\n",
    "ZR = 1.0\n",
    "bU = 5.0\n",
    "bD = 5.0\n",
    "b = abs((bU + bD)/2)\n",
    "n = 0.015  # manning's coefficient\n",
    "L = 25.0\n",
    "Initial_Station = 50\n",
    "iDownstream = 35.21\n",
    "iUpstream = 37.22\n",
    "slope = (iUpstream - iDownstream) / L\n",
    "\n",
    "# project features\n",
    "\n",
    "Q = 285\n",
    "g = 32.2  # ft/s^2\n",
    "ns = 20  # number of sections - need to be integer\n",
    "deltax = L/(ns-1) # distância entre as seções\n",
    "\n",
    "# boundary condition\n",
    "\n",
    "iKinicial = 35.21  # inverts know\n",
    "BETA = 1  # down to up = 1.0; up to down = - 1.0\n",
    "yKi = 2.15  # y know\n",
    "\n",
    "\n",
    "# hydraulic verification\n",
    "\n",
    "args = [b, ZL, ZR, g, Q]\n",
    "yc = dp.critical(yKi, args)\n",
    "\n",
    "args0 = [n, Q, slope, b, ZL, ZR]\n",
    "yn = dp.normal(yKi, args0)\n"
   ]
  },
  {
   "cell_type": "markdown",
   "metadata": {},
   "source": [
    "> ### Passo 4: Cálculo dos dados das seções adjacentes\n",
    "\n",
    "> <b> 1 - </b>  Para resolução do problema dividiu-se o canal em 20 seções. Sendo conhecidos apenas os dados da primeira seção, como apresentado no passo 3.\n",
    "<br>\n",
    "\n",
    "> <b> 2 - </b>  A partir dos dados conhecidos da seção inicial (<b> i </b> e <b> y </b>), é feito um chute inicial para cálculo dos dados da seção adjacente. \n",
    "<br>\n",
    "> <b> Observação: </b> A única função desse chute inicial é dar um ponto de início para as interações do método Newton-Raphson\n",
    "<br>\n",
    "\n",
    "> <b> 3 - </b>  Os dados da seção calculada (adjacente), serão utilizados como dados iniciais para a seção adjacente seguinte, e esse processo é repetido até que todas as seções sejam calculadas. \n"
   ]
  },
  {
   "cell_type": "code",
   "execution_count": null,
   "metadata": {},
   "outputs": [],
   "source": [
    "\n",
    "# create the inverts unknown\n",
    "\n",
    "iU = ns * [iKinicial]\n",
    "\n",
    "for x in range(1, ns):  # start in second '[1]' to keep the value of know invert in first section\n",
    "    iU[x] = deltax * slope + iU[x-1]\n",
    "\n",
    "# create the stations\n",
    "\n",
    "station = (ns) * [Initial_Station]\n",
    "for x in range(0, ns):\n",
    "    station[x] = Initial_Station + deltax*x\n",
    "\n",
    "# create the y unknow\n",
    "\n",
    "y = (ns) * [yKi]\n",
    "\n",
    "for x in range(1, ns):\n",
    "    yK = y[x-1]\n",
    "    iK = iU[x-1]\n",
    "    i = iU[x]\n",
    "\n",
    "    try:\n",
    "        y[x] = optimize.newton(fy, y[x-1]+0.01, fprime=derivada_fy)\n",
    "    except RuntimeError or ZeroDivisionError:\n",
    "        y[x] = yc\n",
    "        del y[x+1:]\n",
    "        del station[x+1:]\n",
    "        del iU[x+1:]\n",
    "        break\n",
    "\n",
    "# stage depth (invert + depth)\n",
    "\n",
    "stagedepth = (len(y)) * [Initial_Station]\n",
    "for x in range(len(y)):\n",
    "    stagedepth[x] = iU[x] + y[x]"
   ]
  },
  {
   "cell_type": "markdown",
   "metadata": {},
   "source": [
    "> ### Passo 5:\n",
    "> Apresentação dos dados\n"
   ]
  },
  {
   "cell_type": "code",
   "execution_count": null,
   "metadata": {},
   "outputs": [],
   "source": [
    "\n",
    "# critical depth for print\n",
    "\n",
    "ycrit = (len(y)) * [yc]\n",
    "for x in range(len(y)):\n",
    "    ycrit[x] = iU[x] + yc\n",
    "\n",
    "# normal depth for print\n",
    "\n",
    "ynorm = (len(y)) * [yn]\n",
    "for x in range(len(y)):\n",
    "    ynorm[x] = iU[x] + yn\n",
    "\n",
    "print(\"=\"*36)\n",
    "print(\"--- STANDARD STEP METHOD RESULTS ---\")\n",
    "print(\"=\"*36)\n",
    "print('NORMAL DEPTH = ' f'{yn:2.2f}' ' ft')\n",
    "print('CRITICAL DEPTH = ' f'{yc:2.2f}'' ft')\n",
    "print(\"-\"*36)\n",
    "print(\"STATION       STAGE       FLOW DEPTH\")\n",
    "print(\"              (ft)           (ft)\")\n",
    "print(\"-\"*36)\n",
    "\n",
    "for x in range(len(y)):\n",
    "    print(f' {station[x]:2.2f}        {stagedepth[x]:2.2f}          {y[x]:2.2f}')\n",
    "print(\"-\"*36)\n"
   ]
  },
  {
   "cell_type": "markdown",
   "metadata": {},
   "source": [
    "> ### Passo 6:\n",
    "> Apresentação gráfica\n"
   ]
  },
  {
   "cell_type": "code",
   "execution_count": null,
   "metadata": {},
   "outputs": [],
   "source": [
    "# printing graphic\n",
    "with plt.style.context('Solarize_Light2'):\n",
    "    plt.rcParams['figure.figsize'] = (15,9)\n",
    "    plt.plot(station, iU, 'k', label='Invert')\n",
    "    plt.plot(station, stagedepth, 'b--', label='Flow Depth')\n",
    "    plt.plot(station, ycrit, 'r:', label='Critical Depth')\n",
    "    plt.plot(station, ynorm, 'g-.', label='Normal Depth')\n",
    "\n",
    "    legend = plt.legend(loc='best', shadow=True, fontsize='small')\n",
    "\n",
    "    legend.get_frame().set_facecolor('#AAAC7B')\n",
    "    plt.xlabel('STATION')\n",
    "    plt.ylabel('DEPTH')\n",
    "    plt.title('STANDARD STEP')\n",
    "    plt.show()"
   ]
  },
  {
   "cell_type": "markdown",
   "metadata": {},
   "source": [
    " ### <u>Conclusões  </u>\n",
    "  \n",
    "  1. Um algorítimo foi escrito e desenvolvido em python apresentando resultados em velocidade muito mais rápida do que em relação a rotinas de interpolação com consulta a tabelas.\n",
    "  2. Apesar do autor original indicar que o algorítmo poderia funcionar em qualquer tipo de regime, na prática isso não ocorre. Em momentos em que o $\\Delta x$ se tornam muito pequenos em relação a altura $y$, ou em transição de regime o algorítmo, por uma limitação física / matemática não consegue apresentar resultados. Desse modo é necessário inserir uma rotina de verificação de erro.\n",
    "  3. O método permite o calculo em canais prismáticos e não prismáticos, todavia este exemplo foi estruturado para canais trapezoidais. Canais com a geometria mais complexa, como canais com leito natural, exigirão um módulo a parte para o cálculo da Am e Rh.\n",
    "  4. Por conta desta última limitação e por considerar um coeficiente de Manning constante em todo o canal, a rotina desenvolvida atende muito bem os canais abertos encontrados na maior dos sistemas de drenagem."
   ]
  },
  {
   "cell_type": "code",
   "execution_count": null,
   "metadata": {},
   "outputs": [],
   "source": []
  }
 ],
 "metadata": {
  "kernelspec": {
   "display_name": "Python 3",
   "language": "python",
   "name": "python3"
  },
  "language_info": {
   "codemirror_mode": {
    "name": "ipython",
    "version": 3
   },
   "file_extension": ".py",
   "mimetype": "text/x-python",
   "name": "python",
   "nbconvert_exporter": "python",
   "pygments_lexer": "ipython3",
   "version": "3.7.1"
  }
 },
 "nbformat": 4,
 "nbformat_minor": 2
}
